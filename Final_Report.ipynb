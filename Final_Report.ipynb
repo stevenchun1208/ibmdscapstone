{
 "cells": [
  {
   "cell_type": "markdown",
   "metadata": {},
   "source": [
    "# Introduction"
   ]
  },
  {
   "cell_type": "markdown",
   "metadata": {},
   "source": [
    "# An Asian American businessman is looking to open an Asian fusion restaurant in South Bay region of northern California. He wishes to open the restaurant in an area where there are good percentage of Asian Americans and where there are less competition."
   ]
  },
  {
   "cell_type": "markdown",
   "metadata": {},
   "source": [
    "# Data "
   ]
  },
  {
   "cell_type": "markdown",
   "metadata": {},
   "source": [
    "# Percent Asian population per zip code data will be extracted from zipatlas.com, this will also include longitude and latitude values of each zip code. Foursquare data will also be gathered to analyze the popular spots per zip code. The analysis will enable the businessman to target an area where there are decent percentage of Asian population and not as many competing businesses.\n",
    "\n",
    "# Percent Population per Zip Code Source: http://zipatlas.com/us/ca/zip-code-comparison/percentage-asian-population.htm\n",
    "# California Geojson Source: https://github.com/OpenDataDE/State-zip-code-GeoJSON/blob/master/ca_california_zip_codes_geo.min.json\n",
    "\n"
   ]
  },
  {
   "cell_type": "markdown",
   "metadata": {},
   "source": [
    "# Methodology \n",
    "\n",
    "# Once all the required data were obtained, k means was utilized to cluster the zip codes based on the popularity data extracted from Foursquare.  K means was used because it determines if there are any sort of pattern or similarities between population in certain zip codes.  The Foursquare data was then sorted to identify top 5 popular spots per cluster.  Finally the % Asian population data and the Foursquare cluster data were overlayed on map of South Bay using Folium.  "
   ]
  },
  {
   "cell_type": "markdown",
   "metadata": {},
   "source": [
    "# Results"
   ]
  },
  {
   "cell_type": "markdown",
   "metadata": {},
   "source": [
    "# K means results indicates that most zip codes fall under cluster 1.  Two of the highest % Asian zip codes, 95131 and 95133 also fall under Cluster 1.  Cluster 1 however did not have any Asian restaurants in top 5 list, in fact the most popular cuisine was Mexican Restaurant.  Clusters 3 had Fish and Chips as 2nd popular spot and Cluster 2 had Food Truck 4th most common venue.  In terms of individual zip code data, 95131 with the highest percent Asians had Fast Food joint as the 2nd most common venue.  The zip code 94539 had Chinese and hot pot restaurants as 1st and 5th most common venue."
   ]
  },
  {
   "cell_type": "markdown",
   "metadata": {},
   "source": [
    "# Discussion"
   ]
  },
  {
   "cell_type": "markdown",
   "metadata": {},
   "source": [
    "# Based on the results, it appears that there isn't a clear relationship between percent Asians and Asian restaurants being in top five most common venues.  However it does not mean that there aren't Asian restaurants, it just means that those that exist are not as popular as other non-eatery venues but since they are not as popular, it could mean that they are less of competition.  I would recommend to open the fusion restaurant in any of the top 10 highest % Asian zip codes, except for 95148, 94539 or 95014."
   ]
  },
  {
   "cell_type": "markdown",
   "metadata": {},
   "source": [
    "# Conclusion section where you conclude the report."
   ]
  },
  {
   "cell_type": "markdown",
   "metadata": {},
   "source": [
    "# For the final project, we extracted data on % Asians per zip code in South Bay region of northern California.  We also extracted data from Foursquare to find most common venues per zip code.  Once all the required data were obtained, k means was utilized to cluster the zip codes based on the popularity data extracted from Foursquare. The Foursquare data was then sorted to identify top 5 popular spots per cluster. Finally the % Asian population data and the Foursquare cluster data were overlayed on map of South Bay using Folium.  The results indicate that since South Bay such a melting pot of various cultures, higher % of Asian population did not necessarily equate to Asian restaurants being in the top 5 most common venues.  However, their were certainly good number of Asian restaurants.  Based on the results, it was recommended to open the fusion restaurant in any of the top 10 highest % Asian zip codes, except for 95148, 94539 or 95014."
   ]
  },
  {
   "cell_type": "code",
   "execution_count": null,
   "metadata": {},
   "outputs": [],
   "source": []
  }
 ],
 "metadata": {
  "kernelspec": {
   "display_name": "Python",
   "language": "python",
   "name": "conda-env-python-py"
  },
  "language_info": {
   "codemirror_mode": {
    "name": "ipython",
    "version": 3
   },
   "file_extension": ".py",
   "mimetype": "text/x-python",
   "name": "python",
   "nbconvert_exporter": "python",
   "pygments_lexer": "ipython3",
   "version": "3.6.10"
  }
 },
 "nbformat": 4,
 "nbformat_minor": 4
}
